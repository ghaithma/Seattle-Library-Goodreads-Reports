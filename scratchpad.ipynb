{
 "cells": [
  {
   "cell_type": "code",
   "execution_count": 7,
   "id": "9496f7ca-7df9-44c6-b8dd-673898dbbfda",
   "metadata": {},
   "outputs": [],
   "source": [
    "def pad(text, pad_with = '0', pad_to = 2):\n",
    "    return f\"{pad_with * pad_to}{text}\"[-1 * pad_to:]"
   ]
  },
  {
   "cell_type": "code",
   "execution_count": 12,
   "id": "3264fb6e-22f8-481f-8b4a-1a1402cee72c",
   "metadata": {},
   "outputs": [
    {
     "data": {
      "text/plain": [
       "'aaaaaaaaa1'"
      ]
     },
     "execution_count": 12,
     "metadata": {},
     "output_type": "execute_result"
    }
   ],
   "source": [
    "pad(1, pad_with='a', pad_to=10)"
   ]
  },
  {
   "cell_type": "code",
   "execution_count": 13,
   "id": "f2ed89eb-b3d9-4731-b22f-9b17e3f46224",
   "metadata": {},
   "outputs": [],
   "source": [
    "COLORS = ['#556B2F', '#B8860B', '#3CB371', '#6495ED', '#F5F5DC', '#00FF7F', '#9400D3']"
   ]
  },
  {
   "cell_type": "code",
   "execution_count": 14,
   "id": "40f5009e-8d4d-42f0-84c8-d651e0545d23",
   "metadata": {},
   "outputs": [
    {
     "data": {
      "text/plain": [
       "['#556B2F', '#B8860B', '#3CB371', '#6495ED', '#F5F5DC', '#00FF7F', '#9400D3']"
      ]
     },
     "execution_count": 14,
     "metadata": {},
     "output_type": "execute_result"
    }
   ],
   "source": [
    "COLORS[0:10]"
   ]
  },
  {
   "cell_type": "code",
   "execution_count": 22,
   "id": "f4c17285-fa17-4a70-a6af-c9e9ffb000c8",
   "metadata": {},
   "outputs": [
    {
     "data": {
      "text/plain": [
       "1"
      ]
     },
     "execution_count": 22,
     "metadata": {},
     "output_type": "execute_result"
    }
   ],
   "source": [
    "10 // len(COLORS)"
   ]
  },
  {
   "cell_type": "code",
   "execution_count": 26,
   "id": "bfbfc82e-0192-4ac6-970b-b414efb419ec",
   "metadata": {},
   "outputs": [],
   "source": [
    "def get_colors(n):\n",
    "    COLORS = ['#556B2F', '#B8860B', '#3CB371', '#6495ED', '#F5F5DC', '#00FF7F', '#9400D3']\n",
    "    repeats = (n // len(COLORS)) + ((n % len(COLORS)) > 0)\n",
    "    print(repeats)\n",
    "    return (COLORS * repeats)[0:n]"
   ]
  },
  {
   "cell_type": "code",
   "execution_count": 63,
   "id": "5521e218-f5b7-4923-8edb-1efe67adfae5",
   "metadata": {},
   "outputs": [],
   "source": [
    "def get_daterange(from_date='2010-05', to_date='2020-01'):\n",
    "    from_year = int(from_date[0:4])\n",
    "    to_year = int(to_date[0:4])\n",
    "    from_month = int(from_date[5:7])\n",
    "    to_month = int(to_date[5:7])\n",
    "    daterange = list()\n",
    "    for year in range(from_year, to_year+1):\n",
    "        for month in range(1, 13):\n",
    "            daterange.append(f\"{year}-{pad(month)}\")\n",
    "    print(from_month)\n",
    "    return daterange[from_month-1:-1 * (12-to_month)]"
   ]
  },
  {
   "cell_type": "code",
   "execution_count": 81,
   "id": "20d5b2fd-656e-487b-ab97-1d0093257656",
   "metadata": {},
   "outputs": [
    {
     "name": "stdout",
     "output_type": "stream",
     "text": [
      "12\n"
     ]
    },
    {
     "data": {
      "text/plain": [
       "['2005-12', '2006-01', '2006-02', '2006-03', '2006-04']"
      ]
     },
     "execution_count": 81,
     "metadata": {},
     "output_type": "execute_result"
    }
   ],
   "source": [
    "get_daterange('2005-12', '2006-04')"
   ]
  },
  {
   "cell_type": "code",
   "execution_count": 76,
   "id": "18c04e71-fd52-4694-9fcd-dd02b6d62fc1",
   "metadata": {},
   "outputs": [
    {
     "data": {
      "text/plain": [
       "(2005, 4)"
      ]
     },
     "execution_count": 76,
     "metadata": {},
     "output_type": "execute_result"
    }
   ],
   "source": [
    "tuple(map(int, '2005-04'.split('-')))"
   ]
  },
  {
   "cell_type": "code",
   "execution_count": 77,
   "id": "74d01832-9070-4eed-966b-d50f8f859171",
   "metadata": {},
   "outputs": [],
   "source": [
    "def divide_month(month):\n",
    "    return tuple(map(int, month.split('-')))\n",
    "\n",
    "def join_month(year, month):\n",
    "    return f\"{year}-{pad(month)}\"\n",
    "\n",
    "def get_daterange(from_date='2010-05', to_date='2020-01'):\n",
    "    from_year, from_month = divide_month(from_date)\n",
    "    to_year, to_month = divide_month(to_date)\n",
    "    daterange = list()\n",
    "    for year in range(from_year, to_year+1):\n",
    "        for month in range(1, 13):\n",
    "            daterange.append(f\"{year}-{pad(month)}\")\n",
    "    print(from_month)\n",
    "    return daterange[from_month-1:-1 * (12-to_month)]"
   ]
  },
  {
   "cell_type": "code",
   "execution_count": null,
   "id": "8f6b076f-ca5d-4b2d-bc30-72fc38f2a9d3",
   "metadata": {},
   "outputs": [],
   "source": []
  }
 ],
 "metadata": {
  "kernelspec": {
   "display_name": "Python 3 (ipykernel)",
   "language": "python",
   "name": "python3"
  },
  "language_info": {
   "codemirror_mode": {
    "name": "ipython",
    "version": 3
   },
   "file_extension": ".py",
   "mimetype": "text/x-python",
   "name": "python",
   "nbconvert_exporter": "python",
   "pygments_lexer": "ipython3",
   "version": "3.13.0"
  }
 },
 "nbformat": 4,
 "nbformat_minor": 5
}
