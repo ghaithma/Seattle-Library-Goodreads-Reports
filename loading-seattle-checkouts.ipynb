{
 "cells": [
  {
   "cell_type": "code",
   "execution_count": 1,
   "id": "6b931875-778b-4658-bd74-bae3af41b391",
   "metadata": {},
   "outputs": [],
   "source": [
    "import pandas as pd"
   ]
  },
  {
   "cell_type": "code",
   "execution_count": 2,
   "id": "049e8e1e-8960-4908-b658-6bc5bee8bf7d",
   "metadata": {},
   "outputs": [],
   "source": [
    "mini_bibs_df = pd.read_csv('../../export/books.csv')"
   ]
  },
  {
   "cell_type": "code",
   "execution_count": 3,
   "id": "619dd49f-5aad-4e0c-adda-1c313d591ef7",
   "metadata": {},
   "outputs": [],
   "source": [
    "bibs_list = mini_bibs_df.bib_number.unique()"
   ]
  },
  {
   "cell_type": "code",
   "execution_count": 4,
   "id": "f3886d26-24d0-4ef5-8ec2-fdb975eebc46",
   "metadata": {},
   "outputs": [],
   "source": [
    "drop_columns = ['ID', 'CheckoutYear', 'ItemBarcode', 'ItemType',\n",
    "       'Collection', 'CallNumber', 'ItemTitle', 'Subjects']"
   ]
  },
  {
   "cell_type": "code",
   "execution_count": 5,
   "id": "b22c8274-e4fe-413a-83cb-03947227e57c",
   "metadata": {},
   "outputs": [],
   "source": [
    "rename = {'BibNumber': 'bib_number', 'CheckoutDateTime': 'date', 'count': 'checkouts'}"
   ]
  },
  {
   "cell_type": "code",
   "execution_count": 6,
   "id": "eda1350b-ca22-4baa-92f9-b3df0ca6f115",
   "metadata": {},
   "outputs": [
    {
     "name": "stderr",
     "output_type": "stream",
     "text": [
      "/var/folders/s4/1v4md5sx1mx4l5nwl3kvctxh0000gn/T/ipykernel_24674/3842189680.py:2: DtypeWarning: Columns (3) have mixed types. Specify dtype option on import or set low_memory=False.\n",
      "  total_checkouts_df = pd.read_csv('../seattle-checkouts-by-title/checkouts_2017+.csv')\n"
     ]
    }
   ],
   "source": [
    "# Read 2017+ Checkouts\n",
    "total_checkouts_df = pd.read_csv('../seattle-checkouts-by-title/checkouts_2017+.csv')"
   ]
  },
  {
   "cell_type": "code",
   "execution_count": 7,
   "id": "b6d29c05-f734-4542-a278-4b3f79864ddf",
   "metadata": {},
   "outputs": [],
   "source": [
    "total_checkouts_df.drop(columns=drop_columns, errors='ignore', inplace=True)\n",
    "total_checkouts_df = total_checkouts_df[total_checkouts_df.BibNumber.isin(bibs_list)]"
   ]
  },
  {
   "cell_type": "code",
   "execution_count": 8,
   "id": "578780af-aa3f-4a2d-a307-a42354a3ebb4",
   "metadata": {},
   "outputs": [
    {
     "name": "stderr",
     "output_type": "stream",
     "text": [
      "/var/folders/s4/1v4md5sx1mx4l5nwl3kvctxh0000gn/T/ipykernel_24674/1994265479.py:2: DtypeWarning: Columns (1) have mixed types. Specify dtype option on import or set low_memory=False.\n",
      "  checkouts_df = pd.read_csv(f'./Checkouts_By_Title_Data_Lens_{year}.csv')\n"
     ]
    },
    {
     "name": "stdout",
     "output_type": "stream",
     "text": [
      "2005\n",
      "2006\n",
      "2007\n",
      "2008\n",
      "2009\n",
      "2010\n",
      "2011\n",
      "2012\n",
      "2013\n",
      "2014\n",
      "2015\n",
      "2016\n"
     ]
    }
   ],
   "source": [
    "for year in range(2005, 2017):\n",
    "    checkouts_df = pd.read_csv(f'./Checkouts_By_Title_Data_Lens_{year}.csv')\n",
    "    checkouts_df.drop(columns=drop_columns, inplace=True, errors='ignore')\n",
    "    checkouts_df=checkouts_df[checkouts_df.BibNumber.isin(bibs_list)]\n",
    "    total_checkouts_df = pd.concat([total_checkouts_df, checkouts_df], ignore_index=True)\n",
    "    print(year)"
   ]
  },
  {
   "cell_type": "code",
   "execution_count": 9,
   "id": "67ff062b-2680-44f5-baf1-94dfff2f1863",
   "metadata": {},
   "outputs": [],
   "source": [
    "#total_checkouts_df['month'] = total_checkouts_df.CheckoutDateTime.str.slice(start=0, stop=2)"
   ]
  },
  {
   "cell_type": "code",
   "execution_count": 10,
   "id": "a0db1389-2f2e-4a7d-9e92-a0edc6015f58",
   "metadata": {},
   "outputs": [],
   "source": [
    "#total_checkouts_df['year'] = total_checkouts_df.CheckoutDateTime.str.slice(start=6, stop=10)"
   ]
  },
  {
   "cell_type": "code",
   "execution_count": 11,
   "id": "1ec8a762-16b9-4586-b462-77425b7af0e8",
   "metadata": {},
   "outputs": [],
   "source": [
    "total_checkouts_df['month'] = total_checkouts_df.CheckoutDateTime.str.slice(start=6, stop=10) + '-' + total_checkouts_df.CheckoutDateTime.str.slice(start=0, stop=2)"
   ]
  },
  {
   "cell_type": "code",
   "execution_count": 12,
   "id": "0d467349-72e4-4f8a-b63b-d49903b3dc46",
   "metadata": {},
   "outputs": [],
   "source": [
    "total_checkouts_df.drop(columns=['CheckoutDateTime'], inplace=True, errors='ignore')"
   ]
  },
  {
   "cell_type": "code",
   "execution_count": 13,
   "id": "741b955f-ce3b-4b58-8038-2079e906b900",
   "metadata": {},
   "outputs": [],
   "source": [
    "total_checkouts_df['count'] = 1"
   ]
  },
  {
   "cell_type": "code",
   "execution_count": 24,
   "id": "0bd401d1-9a7b-44e4-bd15-d43c53a9b33b",
   "metadata": {},
   "outputs": [],
   "source": [
    "grouped_checkouts_df = total_checkouts_df.groupby(by=['BibNumber', 'month']).count()"
   ]
  },
  {
   "cell_type": "code",
   "execution_count": 25,
   "id": "13b5e134-6c08-411c-97a8-b578da5cb51e",
   "metadata": {},
   "outputs": [],
   "source": [
    "grouped_checkouts_df.reset_index(inplace=True)"
   ]
  },
  {
   "cell_type": "code",
   "execution_count": 26,
   "id": "1398f4d2-b26e-48b2-961b-aa62e1b1f6a5",
   "metadata": {},
   "outputs": [],
   "source": [
    "grouped_checkouts_df.rename(rename, axis=1, inplace=True)"
   ]
  },
  {
   "cell_type": "code",
   "execution_count": 27,
   "id": "215f9326-6848-486e-ba94-eeeeeaab976d",
   "metadata": {},
   "outputs": [],
   "source": [
    "grouped_checkouts_df.to_csv('../../export/seattle-checkouts/aggregate_checkouts.csv', index=False)"
   ]
  },
  {
   "cell_type": "code",
   "execution_count": null,
   "id": "eaabae5e-fd8b-4c2e-8310-40deaaf9138c",
   "metadata": {},
   "outputs": [],
   "source": []
  }
 ],
 "metadata": {
  "kernelspec": {
   "display_name": "Python 3 (ipykernel)",
   "language": "python",
   "name": "python3"
  },
  "language_info": {
   "codemirror_mode": {
    "name": "ipython",
    "version": 3
   },
   "file_extension": ".py",
   "mimetype": "text/x-python",
   "name": "python",
   "nbconvert_exporter": "python",
   "pygments_lexer": "ipython3",
   "version": "3.13.0"
  }
 },
 "nbformat": 4,
 "nbformat_minor": 5
}
