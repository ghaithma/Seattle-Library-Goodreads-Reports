{
 "cells": [
  {
   "cell_type": "code",
   "execution_count": 1,
   "id": "9a76c5ec-f535-4ceb-9286-69c159621ec4",
   "metadata": {},
   "outputs": [],
   "source": [
    "import pandas as pd"
   ]
  },
  {
   "cell_type": "markdown",
   "id": "d31b5197-6470-4164-9ede-0af5a01a6009",
   "metadata": {},
   "source": [
    "## Load data from pickles"
   ]
  },
  {
   "cell_type": "code",
   "execution_count": 4,
   "id": "4833ef1d-04ea-4d71-bde9-1c408aa27362",
   "metadata": {},
   "outputs": [],
   "source": [
    "full_sls_books_df = pd.read_pickle('./sls_books.pkl')"
   ]
  },
  {
   "cell_type": "code",
   "execution_count": 5,
   "id": "f21ef37c-b457-44b5-9d09-6517ce054bef",
   "metadata": {},
   "outputs": [],
   "source": [
    "full_gr_books_df = pd.read_pickle('./datasets/goodreads/gr_books.pkl')"
   ]
  },
  {
   "cell_type": "code",
   "execution_count": 143,
   "id": "9c2f7122-019d-442b-8a86-a32e60df03f9",
   "metadata": {},
   "outputs": [],
   "source": [
    "full_sls_books_df.fillna('', inplace=True)"
   ]
  },
  {
   "cell_type": "code",
   "execution_count": 279,
   "id": "754bb549-4701-4f4f-b00a-4b41705fdf2c",
   "metadata": {},
   "outputs": [],
   "source": [
    "full_gr_reviews_df = pd.read_pickle('./datasets/goodreads/gr_reviews.pkl')"
   ]
  },
  {
   "cell_type": "code",
   "execution_count": 429,
   "id": "06fbc214-5031-4727-8639-5859319fc077",
   "metadata": {},
   "outputs": [],
   "source": [
    "full_gr_authors_df = pd.read_pickle('./datasets/goodreads/gr_authors.pkl')"
   ]
  },
  {
   "cell_type": "code",
   "execution_count": null,
   "id": "706928dd-48d3-4feb-bc2a-7250adcfaab6",
   "metadata": {},
   "outputs": [],
   "source": [
    "# Todo\n",
    "# - Full Gr authors\n",
    "# - Full Gr reviews"
   ]
  },
  {
   "cell_type": "markdown",
   "id": "ccf5c73b-f529-493f-8a75-572d58166a69",
   "metadata": {},
   "source": [
    "## Data descriptions"
   ]
  },
  {
   "cell_type": "code",
   "execution_count": 8,
   "id": "1b3e2cc4-c4f8-405b-8a74-b3a7437e6166",
   "metadata": {},
   "outputs": [
    {
     "name": "stdout",
     "output_type": "stream",
     "text": [
      "Size of SLS ISBN Map: 811649\n",
      "Size of SLS Books Dataset: 1050667\n",
      "Size of GR Books Dataset: 194123\n"
     ]
    }
   ],
   "source": [
    "print(f\"Size of SLS Books Dataset: {full_sls_books_df.shape[0]}\")\n",
    "print(f\"Size of GR Books Dataset: {full_gr_books_df.shape[0]}\")"
   ]
  },
  {
   "cell_type": "markdown",
   "id": "50a062e6-8ebc-4f9a-8a8b-2de8c4e9d385",
   "metadata": {},
   "source": [
    "## Data Cleaning"
   ]
  },
  {
   "cell_type": "code",
   "execution_count": 218,
   "id": "d1e1e7f3-6baf-4a8d-9867-7a8971bae66b",
   "metadata": {},
   "outputs": [],
   "source": [
    "# Fixing BibNum to be of type string\n",
    "full_sls_books_df.BibNum = full_sls_books_df.BibNum.astype(str)"
   ]
  },
  {
   "cell_type": "code",
   "execution_count": 12,
   "id": "49a98bf5-ca2f-4113-9ba2-8f1daa08fa67",
   "metadata": {},
   "outputs": [],
   "source": [
    "# Removing unneeded columns\n",
    "mini_sls_books_df = full_sls_books_df[['BibNum', 'Title', 'Author', 'ISBN', 'PublicationYear']].copy()"
   ]
  },
  {
   "cell_type": "code",
   "execution_count": 196,
   "id": "4c8e3ff9-cf8e-422c-b86f-e9396cc1c530",
   "metadata": {},
   "outputs": [],
   "source": [
    "# Convert broken dates into empty string\n",
    "full_sls_books_df.loc[(~full_sls_books_df.PublicationYear.str.match('^.*\\\\d{4}.*$')) & (full_sls_books_df.PublicationYear != ''), 'PublicationYear'] = ''\n",
    "full_gr_books_df.loc[(~full_gr_books_df.publication_year.str.match('^\\\\d{4}$')) & (full_gr_books_df.publication_year != ''), 'publication_year'] = ''"
   ]
  },
  {
   "cell_type": "code",
   "execution_count": 206,
   "id": "aced63cb-afc4-4492-ba15-9f683c13f8b5",
   "metadata": {},
   "outputs": [],
   "source": [
    "mini_sls_books_df.PublicationYear = mini_sls_books_df.PublicationYear.str.replace(r'^.*?(\\d{4}).*$', r'\\1', regex=True)"
   ]
  },
  {
   "cell_type": "markdown",
   "id": "4ccf9d8d-ade6-4011-88d0-a381d2c21980",
   "metadata": {},
   "source": [
    "## Minimzing data"
   ]
  },
  {
   "cell_type": "code",
   "execution_count": 15,
   "id": "b3a14be4-6df5-4c73-a109-92b41dee211a",
   "metadata": {},
   "outputs": [],
   "source": [
    "# Removing duplicated BibNum\n",
    "mini_sls_books_df.drop_duplicates(subset=['BibNum'], inplace=True)"
   ]
  },
  {
   "cell_type": "code",
   "execution_count": 20,
   "id": "2a9d892b-4160-4453-b956-bac41545d083",
   "metadata": {},
   "outputs": [],
   "source": [
    "# Regenrating the BibNum to ISBN map\n",
    "mini_isbn_map_df = mini_sls_books_df[['BibNum', 'ISBN']].copy()\n",
    "mini_isbn_map_df.ISBN = mini_isbn_map_df.ISBN.str.split(',')\n",
    "mini_isbn_map_df = mini_isbn_map_df.explode(column='ISBN', ignore_index=True)\n",
    "mini_isbn_map_df.ISBN = mini_isbn_map_df.ISBN.str.strip()\n",
    "mini_isbn_map_df = mini_isbn_map_df[mini_isbn_map_df.ISBN != '']\n",
    "mini_isbn_map_df.drop_duplicates(inplace=True)"
   ]
  },
  {
   "cell_type": "code",
   "execution_count": 66,
   "id": "227e67b6-a7aa-4c3a-b8ad-462325a2f653",
   "metadata": {},
   "outputs": [
    {
     "data": {
      "text/plain": [
       "428624"
      ]
     },
     "execution_count": 66,
     "metadata": {},
     "output_type": "execute_result"
    }
   ],
   "source": [
    "mini_isbn_map_df.BibNum.nunique()"
   ]
  },
  {
   "cell_type": "code",
   "execution_count": 63,
   "id": "00c9173d-d059-42da-a807-1970cb51e83a",
   "metadata": {},
   "outputs": [],
   "source": [
    "# Delete all books from SLS that do not have a book in Goodreads\n",
    "intersect_isbn_map_df = mini_isbn_map_df[mini_isbn_map_df.ISBN.isin(full_gr_books_df.isbn) | mini_isbn_map_df.ISBN.isin(full_gr_books_df.isbn13)]"
   ]
  },
  {
   "cell_type": "code",
   "execution_count": 88,
   "id": "161edb81-f153-4120-9ed9-93e7e5a9d7b6",
   "metadata": {},
   "outputs": [],
   "source": [
    "# Remove dupliated ISBNs (room for improvement)\n",
    "intersect_isbn_map_df = intersect_isbn_map_df[~intersect_isbn_map_df.ISBN.duplicated(keep=False)]"
   ]
  },
  {
   "cell_type": "code",
   "execution_count": 245,
   "id": "b1656586-540c-4bfe-8685-d6c9f0d2bbaf",
   "metadata": {},
   "outputs": [],
   "source": [
    "matched_gr_books_df = full_gr_books_df.merge(right=intersect_isbn_map_df, how='left', left_on='isbn', right_on='ISBN').drop(columns=['ISBN']).merge(right=intersect_isbn_map_df, how='left', left_on='isbn13', right_on='ISBN', suffixes=('', '13')).drop(columns=['ISBN'])"
   ]
  },
  {
   "cell_type": "code",
   "execution_count": 247,
   "id": "67f35169-3fb1-4fbe-93f4-455efe0967bf",
   "metadata": {},
   "outputs": [],
   "source": [
    "matched_gr_books_df.fillna('', inplace=True)"
   ]
  },
  {
   "cell_type": "code",
   "execution_count": 267,
   "id": "1b5dc8a1-fb19-4167-b355-03a1f1a88255",
   "metadata": {},
   "outputs": [
    {
     "ename": "AttributeError",
     "evalue": "'DataFrame' object has no attribute 'BibNum13'",
     "output_type": "error",
     "traceback": [
      "\u001b[0;31m---------------------------------------------------------------------------\u001b[0m",
      "\u001b[0;31mAttributeError\u001b[0m                            Traceback (most recent call last)",
      "\u001b[0;32m/var/folders/s4/1v4md5sx1mx4l5nwl3kvctxh0000gn/T/ipykernel_37526/2084581306.py\u001b[0m in \u001b[0;36m?\u001b[0;34m()\u001b[0m\n\u001b[1;32m      1\u001b[0m \u001b[0;31m# Drop the books that are matching to different BibNumbers (based on isbn and isbn13)\u001b[0m\u001b[0;34m\u001b[0m\u001b[0;34m\u001b[0m\u001b[0m\n\u001b[0;32m----> 2\u001b[0;31m \u001b[0mmatched_gr_books_df\u001b[0m \u001b[0;34m=\u001b[0m \u001b[0mmatched_gr_books_df\u001b[0m\u001b[0;34m[\u001b[0m\u001b[0;34m~\u001b[0m\u001b[0;34m(\u001b[0m\u001b[0;34m(\u001b[0m\u001b[0mmatched_gr_books_df\u001b[0m\u001b[0;34m.\u001b[0m\u001b[0mBibNum\u001b[0m \u001b[0;34m!=\u001b[0m \u001b[0;34m''\u001b[0m\u001b[0;34m)\u001b[0m \u001b[0;34m&\u001b[0m \u001b[0;34m(\u001b[0m\u001b[0mmatched_gr_books_df\u001b[0m\u001b[0;34m.\u001b[0m\u001b[0mBibNum13\u001b[0m \u001b[0;34m!=\u001b[0m \u001b[0;34m''\u001b[0m\u001b[0;34m)\u001b[0m \u001b[0;34m&\u001b[0m \u001b[0;34m(\u001b[0m\u001b[0mmatched_gr_books_df\u001b[0m\u001b[0;34m.\u001b[0m\u001b[0mBibNum\u001b[0m \u001b[0;34m!=\u001b[0m \u001b[0mmatched_gr_books_df\u001b[0m\u001b[0;34m.\u001b[0m\u001b[0mBibNum13\u001b[0m\u001b[0;34m)\u001b[0m\u001b[0;34m)\u001b[0m\u001b[0;34m]\u001b[0m\u001b[0;34m.\u001b[0m\u001b[0mcopy\u001b[0m\u001b[0;34m(\u001b[0m\u001b[0;34m)\u001b[0m\u001b[0;34m\u001b[0m\u001b[0;34m\u001b[0m\u001b[0m\n\u001b[0m",
      "\u001b[0;32m/Library/Frameworks/Python.framework/Versions/3.13/lib/python3.13/site-packages/pandas/core/generic.py\u001b[0m in \u001b[0;36m?\u001b[0;34m(self, name)\u001b[0m\n\u001b[1;32m   6295\u001b[0m             \u001b[0;32mand\u001b[0m \u001b[0mname\u001b[0m \u001b[0;32mnot\u001b[0m \u001b[0;32min\u001b[0m \u001b[0mself\u001b[0m\u001b[0;34m.\u001b[0m\u001b[0m_accessors\u001b[0m\u001b[0;34m\u001b[0m\u001b[0;34m\u001b[0m\u001b[0m\n\u001b[1;32m   6296\u001b[0m             \u001b[0;32mand\u001b[0m \u001b[0mself\u001b[0m\u001b[0;34m.\u001b[0m\u001b[0m_info_axis\u001b[0m\u001b[0;34m.\u001b[0m\u001b[0m_can_hold_identifiers_and_holds_name\u001b[0m\u001b[0;34m(\u001b[0m\u001b[0mname\u001b[0m\u001b[0;34m)\u001b[0m\u001b[0;34m\u001b[0m\u001b[0;34m\u001b[0m\u001b[0m\n\u001b[1;32m   6297\u001b[0m         \u001b[0;34m)\u001b[0m\u001b[0;34m:\u001b[0m\u001b[0;34m\u001b[0m\u001b[0;34m\u001b[0m\u001b[0m\n\u001b[1;32m   6298\u001b[0m             \u001b[0;32mreturn\u001b[0m \u001b[0mself\u001b[0m\u001b[0;34m[\u001b[0m\u001b[0mname\u001b[0m\u001b[0;34m]\u001b[0m\u001b[0;34m\u001b[0m\u001b[0;34m\u001b[0m\u001b[0m\n\u001b[0;32m-> 6299\u001b[0;31m         \u001b[0;32mreturn\u001b[0m \u001b[0mobject\u001b[0m\u001b[0;34m.\u001b[0m\u001b[0m__getattribute__\u001b[0m\u001b[0;34m(\u001b[0m\u001b[0mself\u001b[0m\u001b[0;34m,\u001b[0m \u001b[0mname\u001b[0m\u001b[0;34m)\u001b[0m\u001b[0;34m\u001b[0m\u001b[0;34m\u001b[0m\u001b[0m\n\u001b[0m",
      "\u001b[0;31mAttributeError\u001b[0m: 'DataFrame' object has no attribute 'BibNum13'"
     ]
    }
   ],
   "source": [
    "# Drop the books that are matching to different BibNumbers (based on isbn and isbn13)\n",
    "matched_gr_books_df = matched_gr_books_df[~((matched_gr_books_df.BibNum != '') & (matched_gr_books_df.BibNum13 != '') & (matched_gr_books_df.BibNum != matched_gr_books_df.BibNum13))].copy()"
   ]
  },
  {
   "cell_type": "code",
   "execution_count": null,
   "id": "a48fcbe4-460b-4a69-84fe-84f5551fa3a2",
   "metadata": {},
   "outputs": [],
   "source": [
    "# Merge BibNum and BibNum13\n",
    "matched_gr_books_df.loc[matched_gr_books_df.BibNum == '', 'BibNum'] = matched_gr_books_df.BibNum13"
   ]
  },
  {
   "cell_type": "code",
   "execution_count": 266,
   "id": "5b01c2df-bb5a-4c65-a089-c81f3b7d120b",
   "metadata": {},
   "outputs": [
    {
     "name": "stderr",
     "output_type": "stream",
     "text": [
      "/var/folders/s4/1v4md5sx1mx4l5nwl3kvctxh0000gn/T/ipykernel_37526/2888686702.py:2: SettingWithCopyWarning: \n",
      "A value is trying to be set on a copy of a slice from a DataFrame\n",
      "\n",
      "See the caveats in the documentation: https://pandas.pydata.org/pandas-docs/stable/user_guide/indexing.html#returning-a-view-versus-a-copy\n",
      "  matched_gr_books_df.drop(columns=['BibNum13'], inplace=True)\n"
     ]
    }
   ],
   "source": [
    "# Remove BibNum13\n",
    "matched_gr_books_df.drop(columns=['BibNum13'], inplace=True)"
   ]
  },
  {
   "cell_type": "code",
   "execution_count": 275,
   "id": "e270edcf-0c45-4270-a427-cb2c20173fff",
   "metadata": {},
   "outputs": [
    {
     "data": {
      "text/plain": [
       "BibNum\n",
       "7    186941\n",
       "6      4997\n",
       "0      1068\n",
       "5      1027\n",
       "4        74\n",
       "3         3\n",
       "2         1\n",
       "Name: count, dtype: int64"
      ]
     },
     "execution_count": 275,
     "metadata": {},
     "output_type": "execute_result"
    }
   ],
   "source": [
    "matched_gr_books_df.BibNum.str.len().value_counts()"
   ]
  },
  {
   "cell_type": "code",
   "execution_count": 271,
   "id": "a4eff2f5-cbb9-42cb-9c62-207014814730",
   "metadata": {},
   "outputs": [],
   "source": [
    "# Create map between book_id and BibNum\n",
    "book_id_bibnum_map_df = matched_gr_books_df[matched_gr_books_df.BibNum != ''][['book_id', 'BibNum']].copy()"
   ]
  },
  {
   "cell_type": "code",
   "execution_count": 274,
   "id": "3e80d897-fbd2-4efe-948c-e255f9a53228",
   "metadata": {},
   "outputs": [],
   "source": [
    "book_id_bibnum_map_df.to_pickle('./book_id_bibnum_map')"
   ]
  },
  {
   "cell_type": "code",
   "execution_count": 278,
   "id": "f44e3032-6009-4eac-88a1-6677c1ccd81f",
   "metadata": {},
   "outputs": [],
   "source": [
    "# Remove GR books that do not have a BibNum (this should not be needed in future runs)\n",
    "matched_gr_books_df = matched_gr_books_df[matched_gr_books_df.BibNum != '']"
   ]
  },
  {
   "cell_type": "code",
   "execution_count": 285,
   "id": "1475896a-57a1-48d3-8d87-60d0177ad4a5",
   "metadata": {},
   "outputs": [],
   "source": [
    "# Remove reviews that do not have a book in the cleaned GR dataset\n",
    "full_gr_reviews_df = full_gr_reviews_df[full_gr_reviews_df.book_id.isin(matched_gr_books_df.book_id)]"
   ]
  },
  {
   "cell_type": "code",
   "execution_count": 286,
   "id": "ea266864-5cec-4f64-a0cc-64bf54213489",
   "metadata": {},
   "outputs": [],
   "source": [
    "# Match the BibNum\n",
    "matched_gr_reviews_df = full_gr_reviews_df.merge(right=book_id_bibnum_map_df, how='left', left_on='book_id', right_on='book_id')"
   ]
  },
  {
   "cell_type": "code",
   "execution_count": 292,
   "id": "857e31f2-7d73-4638-b879-48949b7f830f",
   "metadata": {},
   "outputs": [],
   "source": [
    "# Add publication year from both systems\n",
    "matched_gr_books_df = matched_gr_books_df.merge(right=mini_sls_books_df[['BibNum', 'PublicationYear']], how='left', left_on='BibNum', right_on='BibNum')"
   ]
  },
  {
   "cell_type": "code",
   "execution_count": 361,
   "id": "8655cd50-cf3f-43a2-8ad3-aa228c6fdf2b",
   "metadata": {},
   "outputs": [
    {
     "data": {
      "text/plain": [
       "(18189, 3)"
      ]
     },
     "execution_count": 361,
     "metadata": {},
     "output_type": "execute_result"
    }
   ],
   "source": [
    "matched_gr_books_df[((matched_gr_books_df.publication_year != '') & (matched_gr_books_df.PublicationYear != '')) & (matched_gr_books_df.publication_year != matched_gr_books_df.PublicationYear)][['BibNum', 'publication_year', 'PublicationYear']].shape"
   ]
  },
  {
   "cell_type": "code",
   "execution_count": 355,
   "id": "77462d89-19dd-4333-8753-e878300fa92b",
   "metadata": {},
   "outputs": [],
   "source": [
    "# Remove future dates \n",
    "matched_gr_books_df.loc[matched_gr_books_df.publication_year > '2024', 'publication_year']=''"
   ]
  },
  {
   "cell_type": "code",
   "execution_count": 373,
   "id": "5bf419f5-367d-40cc-8fec-6935a5345849",
   "metadata": {},
   "outputs": [],
   "source": [
    "# Construct a publication year based on SLS year, if SLS year is empty, then fail-over to Goodreads publication year\n",
    "matched_gr_books_df['final_publication_year'] = matched_gr_books_df.PublicationYear\n",
    "matched_gr_books_df.loc[matched_gr_books_df.final_publication_year == '', 'final_publication_year'] = matched_gr_books_df[matched_gr_books_df.final_publication_year == ''].publication_year"
   ]
  },
  {
   "cell_type": "code",
   "execution_count": 383,
   "id": "84e71968-8e06-4815-ae69-2940682a7633",
   "metadata": {},
   "outputs": [],
   "source": [
    "# Manually update the records where no publication year is available in either dataset\n",
    "manual_publication_years = {\n",
    "    '1600981': '1994',\n",
    "    '1938859': '1999',\n",
    "    '2731068': '2011'\n",
    "}\n"
   ]
  },
  {
   "cell_type": "code",
   "execution_count": 391,
   "id": "8a6fd3b6-2da4-489c-a53a-52ad5ea89fb2",
   "metadata": {},
   "outputs": [],
   "source": [
    "for bib, year in manual_publication_years.items():\n",
    "    matched_gr_books_df.loc[matched_gr_books_df.BibNum == bib, 'final_publication_year'] = year"
   ]
  },
  {
   "cell_type": "code",
   "execution_count": 434,
   "id": "be697615-0b99-417f-9df3-c46c66b2a2e7",
   "metadata": {},
   "outputs": [],
   "source": [
    "# Generating the book to author map\n",
    "mini_author_map_df = matched_gr_books_df[['BibNum', 'authors']].copy()\n",
    "mini_author_map_df = mini_author_map_df.explode(column='authors', ignore_index=True)\n",
    "mini_author_map_df['author_id'] = mini_author_map_df.authors.str.get('author_id')\n",
    "mini_author_map_df.drop(columns=['authors'], inplace=True)\n",
    "mini_author_map_df.drop_duplicates(inplace=True)"
   ]
  },
  {
   "cell_type": "code",
   "execution_count": 442,
   "id": "871e3053-51f8-4ac2-8dd0-eba7bc7022ad",
   "metadata": {},
   "outputs": [],
   "source": [
    "# Drop authors that have no book in our minified dataset\n",
    "mini_gr_authors_df = full_gr_authors_df[full_gr_authors_df.author_id.isin(mini_author_map_df.author_id)].copy()"
   ]
  },
  {
   "cell_type": "code",
   "execution_count": 466,
   "id": "56cff104-6d64-4b39-bf0b-a5218d800ef6",
   "metadata": {},
   "outputs": [],
   "source": [
    "# Cleaning the review dates"
   ]
  },
  {
   "cell_type": "code",
   "execution_count": 478,
   "id": "111cb9a9-f02f-4c30-9d97-56d9e6966467",
   "metadata": {
    "scrolled": true
   },
   "outputs": [
    {
     "name": "stderr",
     "output_type": "stream",
     "text": [
      "/var/folders/s4/1v4md5sx1mx4l5nwl3kvctxh0000gn/T/ipykernel_37526/3770168377.py:1: UserWarning: Could not infer format, so each element will be parsed individually, falling back to `dateutil`. To ensure parsing is consistent and as-expected, please specify a format.\n",
      "  matched_gr_reviews_df['review_date'] = pd.to_datetime(matched_gr_reviews_df.date_updated)\n",
      "/var/folders/s4/1v4md5sx1mx4l5nwl3kvctxh0000gn/T/ipykernel_37526/3770168377.py:1: FutureWarning: In a future version of pandas, parsing datetimes with mixed time zones will raise an error unless `utc=True`. Please specify `utc=True` to opt in to the new behaviour and silence this warning. To create a `Series` with mixed offsets and `object` dtype, please use `apply` and `datetime.datetime.strptime`\n",
      "  matched_gr_reviews_df['review_date'] = pd.to_datetime(matched_gr_reviews_df.date_updated)\n"
     ]
    }
   ],
   "source": [
    "matched_gr_reviews_df['review_date'] = pd.to_datetime(matched_gr_reviews_df.date_updated)"
   ]
  },
  {
   "cell_type": "code",
   "execution_count": 479,
   "id": "0dd84ee1-fe38-4797-bf39-c48e69a691ff",
   "metadata": {},
   "outputs": [],
   "source": [
    "matched_gr_reviews_df.to_pickle('./matched_gr_reviews_dated.pkl')"
   ]
  },
  {
   "cell_type": "code",
   "execution_count": 490,
   "id": "1ecb3341-6e83-48dc-8ad4-905b7c07c4ec",
   "metadata": {},
   "outputs": [],
   "source": [
    "matched_gr_reviews_df['formatted_date'] = matched_gr_reviews_df.review_date.astype(str).str.slice(start=0, stop=10)"
   ]
  },
  {
   "cell_type": "code",
   "execution_count": 499,
   "id": "ad9bc12b-568b-4c13-a97e-31969af06d73",
   "metadata": {},
   "outputs": [
    {
     "data": {
      "text/plain": [
       "np.True_"
      ]
     },
     "execution_count": 499,
     "metadata": {},
     "output_type": "execute_result"
    }
   ],
   "source": [
    "(matched_gr_reviews_df.formatted_date.str.match('[12]\\\\d{3}-[01]\\\\d{1}-[0123]\\\\d{1}')).all()"
   ]
  },
  {
   "cell_type": "markdown",
   "id": "ca76f309-37e8-49d5-b5c7-e64eb3a62295",
   "metadata": {},
   "source": [
    "## Exporting Data"
   ]
  },
  {
   "cell_type": "markdown",
   "id": "6098c571-d542-4a62-9832-f9b53b13d8d9",
   "metadata": {},
   "source": [
    "### Books"
   ]
  },
  {
   "cell_type": "code",
   "execution_count": 512,
   "id": "62617b24-fd9c-4597-9bb7-b91ec8423d97",
   "metadata": {},
   "outputs": [],
   "source": [
    "exported_books_df = matched_gr_books_df[['BibNum', 'title', 'final_publication_year', 'description', 'num_pages']].rename({'BibNum': 'bib_number', 'final_publication_year': 'publication_year'}, axis=1)"
   ]
  },
  {
   "cell_type": "code",
   "execution_count": 527,
   "id": "81aa3d38-08b8-4ec5-ba87-feece0bc5320",
   "metadata": {},
   "outputs": [],
   "source": [
    "exported_books_df.drop_duplicates(subset=['bib_number'], inplace=True)"
   ]
  },
  {
   "cell_type": "code",
   "execution_count": 528,
   "id": "32618485-12d1-4368-8771-3b1b5a736807",
   "metadata": {},
   "outputs": [],
   "source": [
    "exported_books_df.to_csv('./export/books.csv', index=False)"
   ]
  },
  {
   "cell_type": "code",
   "execution_count": 530,
   "id": "26a1ec50-77af-4ef5-8462-b6fbafb31601",
   "metadata": {},
   "outputs": [
    {
     "data": {
      "text/plain": [
       "publication_year\n",
       "4    185093\n",
       "Name: count, dtype: int64"
      ]
     },
     "execution_count": 530,
     "metadata": {},
     "output_type": "execute_result"
    }
   ],
   "source": [
    "exported_books_df.publication_year.str.len().value_counts()"
   ]
  },
  {
   "cell_type": "markdown",
   "id": "ef5b158c-f682-4e1d-8173-f5d8acc111b2",
   "metadata": {},
   "source": [
    "### Reviews"
   ]
  },
  {
   "cell_type": "code",
   "execution_count": 535,
   "id": "7d61e664-911a-4da1-98ce-8adb0aec70b1",
   "metadata": {},
   "outputs": [
    {
     "data": {
      "text/plain": [
       "'2006-08-29'"
      ]
     },
     "execution_count": 535,
     "metadata": {},
     "output_type": "execute_result"
    }
   ],
   "source": [
    "matched_gr_reviews_df.formatted_date.min()"
   ]
  },
  {
   "cell_type": "code",
   "execution_count": 501,
   "id": "f437d1df-0b16-4d89-9778-661b0dd8143a",
   "metadata": {},
   "outputs": [],
   "source": [
    "matched_gr_reviews_df[['BibNum', 'rating', 'formatted_date']].rename({'BibNum': 'bib_number', 'formatted_date': 'date'}, axis=1).to_csv('./export/reviews.csv', index=False)"
   ]
  },
  {
   "cell_type": "markdown",
   "id": "61ebd1e0-b157-4c82-bb94-a39c82787d4b",
   "metadata": {},
   "source": [
    "### Authors"
   ]
  },
  {
   "cell_type": "code",
   "execution_count": 504,
   "id": "9d58ea89-56ad-4b96-8c65-b121888d4620",
   "metadata": {},
   "outputs": [
    {
     "data": {
      "text/plain": [
       "Index(['average_rating', 'author_id', 'text_reviews_count', 'name',\n",
       "       'ratings_count'],\n",
       "      dtype='object')"
      ]
     },
     "execution_count": 504,
     "metadata": {},
     "output_type": "execute_result"
    }
   ],
   "source": [
    "mini_gr_authors_df.columns"
   ]
  },
  {
   "cell_type": "code",
   "execution_count": 505,
   "id": "2a427787-0ee8-46fe-80b8-a36f5521cba1",
   "metadata": {},
   "outputs": [],
   "source": [
    "mini_gr_authors_df[['author_id', 'name']].to_csv('./export/authors.csv', index=False)"
   ]
  },
  {
   "cell_type": "code",
   "execution_count": 508,
   "id": "23e3e265-2ca0-46c4-baf6-74f86982b8db",
   "metadata": {},
   "outputs": [],
   "source": [
    "mini_author_map_df.rename({'BibNum': 'bib_number'}, axis=1).to_csv('./export/authored_book.csv', index=False)"
   ]
  },
  {
   "cell_type": "code",
   "execution_count": 411,
   "id": "3a372e7a-847d-4f98-9489-0eb33c93748b",
   "metadata": {},
   "outputs": [
    {
     "data": {
      "text/html": [
       "<div>\n",
       "<style scoped>\n",
       "    .dataframe tbody tr th:only-of-type {\n",
       "        vertical-align: middle;\n",
       "    }\n",
       "\n",
       "    .dataframe tbody tr th {\n",
       "        vertical-align: top;\n",
       "    }\n",
       "\n",
       "    .dataframe thead th {\n",
       "        text-align: right;\n",
       "    }\n",
       "</style>\n",
       "<table border=\"1\" class=\"dataframe\">\n",
       "  <thead>\n",
       "    <tr style=\"text-align: right;\">\n",
       "      <th></th>\n",
       "      <th>BibNum</th>\n",
       "      <th>Title</th>\n",
       "      <th>Author</th>\n",
       "      <th>ISBN</th>\n",
       "      <th>PublicationYear</th>\n",
       "    </tr>\n",
       "  </thead>\n",
       "  <tbody>\n",
       "    <tr>\n",
       "      <th>1101704</th>\n",
       "      <td>2716246</td>\n",
       "      <td>Girl comics / writers, Colleen Coover ... [and...</td>\n",
       "      <td></td>\n",
       "      <td>0785147926, 0785147934, 9780785147923, 9780785...</td>\n",
       "      <td>2011</td>\n",
       "    </tr>\n",
       "  </tbody>\n",
       "</table>\n",
       "</div>"
      ],
      "text/plain": [
       "          BibNum                                              Title Author  \\\n",
       "1101704  2716246  Girl comics / writers, Colleen Coover ... [and...          \n",
       "\n",
       "                                                      ISBN PublicationYear  \n",
       "1101704  0785147926, 0785147934, 9780785147923, 9780785...            2011  "
      ]
     },
     "execution_count": 411,
     "metadata": {},
     "output_type": "execute_result"
    }
   ],
   "source": [
    "search_bib = str(2716246)\n",
    "mini_sls_books_df[mini_sls_books_df.BibNum == search_bib]"
   ]
  },
  {
   "cell_type": "code",
   "execution_count": 413,
   "id": "3284eed3-fc30-4d21-b3a6-33816646da0d",
   "metadata": {},
   "outputs": [
    {
     "data": {
      "text/html": [
       "<div>\n",
       "<style scoped>\n",
       "    .dataframe tbody tr th:only-of-type {\n",
       "        vertical-align: middle;\n",
       "    }\n",
       "\n",
       "    .dataframe tbody tr th {\n",
       "        vertical-align: top;\n",
       "    }\n",
       "\n",
       "    .dataframe thead th {\n",
       "        text-align: right;\n",
       "    }\n",
       "</style>\n",
       "<table border=\"1\" class=\"dataframe\">\n",
       "  <thead>\n",
       "    <tr style=\"text-align: right;\">\n",
       "      <th></th>\n",
       "      <th>book_id</th>\n",
       "      <th>BibNum</th>\n",
       "      <th>title</th>\n",
       "      <th>publication_year</th>\n",
       "      <th>PublicationYear</th>\n",
       "      <th>final_publication_year</th>\n",
       "    </tr>\n",
       "  </thead>\n",
       "  <tbody>\n",
       "    <tr>\n",
       "      <th>38183</th>\n",
       "      <td>7861285</td>\n",
       "      <td>2716246</td>\n",
       "      <td>Girl Comics</td>\n",
       "      <td>2010</td>\n",
       "      <td>2011</td>\n",
       "      <td>2011</td>\n",
       "    </tr>\n",
       "    <tr>\n",
       "      <th>176519</th>\n",
       "      <td>9605424</td>\n",
       "      <td>2716246</td>\n",
       "      <td>Girl Comics</td>\n",
       "      <td>2011</td>\n",
       "      <td>2011</td>\n",
       "      <td>2011</td>\n",
       "    </tr>\n",
       "  </tbody>\n",
       "</table>\n",
       "</div>"
      ],
      "text/plain": [
       "        book_id   BibNum        title publication_year PublicationYear  \\\n",
       "38183   7861285  2716246  Girl Comics             2010            2011   \n",
       "176519  9605424  2716246  Girl Comics             2011            2011   \n",
       "\n",
       "       final_publication_year  \n",
       "38183                    2011  \n",
       "176519                   2011  "
      ]
     },
     "execution_count": 413,
     "metadata": {},
     "output_type": "execute_result"
    }
   ],
   "source": [
    "matched_gr_books_df[matched_gr_books_df.BibNum == search_bib][['book_id', 'BibNum', 'title', 'publication_year', 'PublicationYear', 'final_publication_year']]"
   ]
  },
  {
   "cell_type": "code",
   "execution_count": null,
   "id": "62a984a4-4ae5-478f-9837-905e84ce6c37",
   "metadata": {},
   "outputs": [],
   "source": []
  }
 ],
 "metadata": {
  "kernelspec": {
   "display_name": "Python 3 (ipykernel)",
   "language": "python",
   "name": "python3"
  },
  "language_info": {
   "codemirror_mode": {
    "name": "ipython",
    "version": 3
   },
   "file_extension": ".py",
   "mimetype": "text/x-python",
   "name": "python",
   "nbconvert_exporter": "python",
   "pygments_lexer": "ipython3",
   "version": "3.13.0"
  }
 },
 "nbformat": 4,
 "nbformat_minor": 5
}
